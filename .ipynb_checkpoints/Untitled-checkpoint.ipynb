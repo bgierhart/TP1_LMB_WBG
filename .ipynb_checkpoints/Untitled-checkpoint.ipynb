{
 "cells": [
  {
   "cell_type": "code",
   "execution_count": 4,
   "id": "deb69a34-8c5a-4eda-b8d5-ba297623840b",
   "metadata": {
    "tags": []
   },
   "outputs": [
    {
     "data": {
      "text/plain": [
       "0             Fortnight (feat. Post Malone)\n",
       "1             The Tortured Poets Department\n",
       "2      My Boy Only Breaks His Favorite Toys\n",
       "3                                  Down Bad\n",
       "4                           So Long, London\n",
       "                       ...                 \n",
       "572                                Our Song\n",
       "573           I'm Only Me When I'm With You\n",
       "574                               Invisible\n",
       "575                  A Perfectly Good Heart\n",
       "576    Teardrops on My Guitar - Pop Version\n",
       "Name: track_name, Length: 577, dtype: object"
      ]
     },
     "execution_count": 4,
     "metadata": {},
     "output_type": "execute_result"
    }
   ],
   "source": [
    "import pandas as pd\n",
    "import matplotlib.pyplot as plt\n",
    "import seaborn as sns\n",
    "data=pd.read_csv(\"taylor_swift_discography_updated.csv\", delimiter=';')\n",
    "data['track_name']"
   ]
  }
 ],
 "metadata": {
  "kernelspec": {
   "display_name": "Python 3 (ipykernel)",
   "language": "python",
   "name": "python3"
  },
  "language_info": {
   "codemirror_mode": {
    "name": "ipython",
    "version": 3
   },
   "file_extension": ".py",
   "mimetype": "text/x-python",
   "name": "python",
   "nbconvert_exporter": "python",
   "pygments_lexer": "ipython3",
   "version": "3.11.7"
  }
 },
 "nbformat": 4,
 "nbformat_minor": 5
}
